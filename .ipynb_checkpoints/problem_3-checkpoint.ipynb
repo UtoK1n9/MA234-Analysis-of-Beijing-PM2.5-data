{
 "cells": [
  {
   "cell_type": "code",
   "execution_count": 46,
   "metadata": {
    "pycharm": {
     "name": "#%%\n"
    }
   },
   "outputs": [],
   "source": [
    "import numpy as np\n",
    "import pandas as pd\n",
    "import copy"
   ]
  },
  {
   "cell_type": "code",
   "execution_count": 47,
   "metadata": {
    "pycharm": {
     "name": "#%%\n"
    }
   },
   "outputs": [],
   "source": [
    "data = pd.read_csv('PRSA_data.csv')\n",
    "pm25 = data.loc[:, \"pm2.5\"].values.reshape(-1, 1)  #sklearn当中特征矩阵必须是二维\n",
    "\n",
    "from sklearn.impute import SimpleImputer"
   ]
  },
  {
   "cell_type": "markdown",
   "metadata": {
    "pycharm": {
     "name": "#%% md\n"
    }
   },
   "source": [
    "## 使用均值填补缺失数据(数值型数据)"
   ]
  },
  {
   "cell_type": "code",
   "execution_count": 48,
   "metadata": {
    "pycharm": {
     "name": "#%%\n"
    }
   },
   "outputs": [],
   "source": [
    "\n",
    "data_mean = copy.deepcopy(data)\n",
    "\n",
    "pm25_mean = SimpleImputer()\n",
    "pm25_mean = pm25_mean.fit_transform(pm25)\n",
    "\n",
    "data_mean.loc[:, \"pm2.5\"] = pm25_mean"
   ]
  },
  {
   "cell_type": "markdown",
   "metadata": {
    "pycharm": {
     "name": "#%% md\n"
    }
   },
   "source": [
    "## 使用中位数进行填补"
   ]
  },
  {
   "cell_type": "code",
   "execution_count": 49,
   "metadata": {
    "pycharm": {
     "name": "#%%\n"
    }
   },
   "outputs": [],
   "source": [
    "\n",
    "data_median = copy.deepcopy(data)\n",
    "\n",
    "pm25_median = SimpleImputer(strategy=\"median\")  # 使用中位数填补\n",
    "\n",
    "pm25_median = pm25_median.fit_transform(pm25)\n",
    "\n",
    "data_median.loc[:, \"pm2.5\"] = pm25_median"
   ]
  },
  {
   "cell_type": "markdown",
   "metadata": {
    "pycharm": {
     "name": "#%% md\n"
    }
   },
   "source": [
    "## 使用0进行填补"
   ]
  },
  {
   "cell_type": "code",
   "execution_count": 50,
   "metadata": {
    "pycharm": {
     "name": "#%%\n"
    }
   },
   "outputs": [],
   "source": [
    "\n",
    "data_zero = copy.deepcopy(data)\n",
    "\n",
    "pm25_zero = SimpleImputer(strategy=\"constant\", fill_value=0)  # 使用中位数填补\n",
    "\n",
    "pm25_zero = pm25_zero.fit_transform(pm25)\n",
    "\n",
    "data_zero.loc[:, \"pm2.5\"] = pm25_zero"
   ]
  },
  {
   "cell_type": "markdown",
   "metadata": {
    "pycharm": {
     "name": "#%% md\n"
    }
   },
   "source": [
    "## 使用众数进行填补"
   ]
  },
  {
   "cell_type": "code",
   "execution_count": 51,
   "metadata": {
    "pycharm": {
     "name": "#%%\n"
    }
   },
   "outputs": [],
   "source": [
    "\n",
    "data_mode = copy.deepcopy(data)\n",
    "\n",
    "pm25_mode = SimpleImputer(strategy=\"most_frequent\")  # 使用中位数填补\n",
    "\n",
    "pm25_mode = pm25_mode.fit_transform(pm25)\n",
    "\n",
    "data_mode.loc[:, \"pm2.5\"] = pm25_mode\n"
   ]
  },
  {
   "cell_type": "markdown",
   "metadata": {
    "pycharm": {
     "name": "#%% md\n"
    }
   },
   "source": [
    "## 使用KNN进行填补"
   ]
  },
  {
   "cell_type": "code",
   "execution_count": 52,
   "metadata": {
    "pycharm": {
     "name": "#%%\n"
    }
   },
   "outputs": [],
   "source": [
    "\n",
    "from sklearn.impute import KNNImputer\n",
    "\n",
    "data_knn = copy.deepcopy(data)\n",
    "\n",
    "pm25_pd = data.loc[:, \"pm2.5\"]\n",
    "\n",
    "pm25_knn = KNNImputer(n_neighbors=5)\n",
    "\n",
    "pm25_knn = pm25_knn.fit_transform(pm25_pd.reset_index())\n",
    "\n",
    "data_knn.loc[:, \"pm2.5\"] = pm25_knn[:, 1]\n"
   ]
  },
  {
   "cell_type": "markdown",
   "metadata": {
    "pycharm": {
     "name": "#%% md\n"
    }
   },
   "source": [
    "## 使用插值方法进行填补"
   ]
  },
  {
   "cell_type": "code",
   "execution_count": 53,
   "metadata": {
    "pycharm": {
     "name": "#%%\n"
    }
   },
   "outputs": [],
   "source": [
    "import pandas as pd\n",
    "import copy\n",
    "from scipy import interpolate\n",
    "\n",
    "data = pd.read_csv('PRSA_data.csv')\n",
    "data = data.fillna(value=np.nan)"
   ]
  },
  {
   "cell_type": "code",
   "execution_count": 54,
   "metadata": {
    "pycharm": {
     "name": "#%%\n"
    }
   },
   "outputs": [],
   "source": [
    "pm25_data = data.loc[:, \"pm2.5\"].values.reshape(-1, 1)\n",
    "nan_index, _ = np.where(np.isnan(pm25_data))\n",
    "non_nan_index, _ = np.where(~np.isnan(pm25_data))"
   ]
  },
  {
   "cell_type": "markdown",
   "metadata": {
    "pycharm": {
     "name": "#%% md\n"
    }
   },
   "source": [
    "#### 用变量DEWP进行填补"
   ]
  },
  {
   "cell_type": "code",
   "execution_count": 55,
   "metadata": {
    "pycharm": {
     "name": "#%%\n"
    }
   },
   "outputs": [],
   "source": [
    "x = data.DEWP.values[non_nan_index]\n",
    "y = data['pm2.5'].values[non_nan_index]\n",
    "f = interpolate.interp1d(x, y)\n",
    "y_new = f(data.DEWP.values[nan_index])\n",
    "data_interpolation_DEWP = copy.deepcopy(data)\n",
    "data_interpolation_DEWP.loc[nan_index, 'pm2.5'] = y_new"
   ]
  },
  {
   "cell_type": "markdown",
   "metadata": {
    "pycharm": {
     "name": "#%% md\n"
    }
   },
   "source": [
    "#### 用变量TEMP进行填补"
   ]
  },
  {
   "cell_type": "code",
   "execution_count": 56,
   "metadata": {
    "pycharm": {
     "name": "#%%\n"
    }
   },
   "outputs": [],
   "source": [
    "x = data.TEMP.values[non_nan_index]\n",
    "y = data['pm2.5'].values[non_nan_index]\n",
    "f = interpolate.interp1d(x, y)\n",
    "y_new = f(data.TEMP.values[nan_index])\n",
    "data_interpolation_TEMP = copy.deepcopy(data)\n",
    "data_interpolation_TEMP.loc[nan_index, 'pm2.5'] = y_new"
   ]
  },
  {
   "cell_type": "markdown",
   "metadata": {
    "pycharm": {
     "name": "#%% md\n"
    }
   },
   "source": [
    "#### 用变量PRES进行填补"
   ]
  },
  {
   "cell_type": "code",
   "execution_count": 57,
   "metadata": {
    "pycharm": {
     "name": "#%%\n"
    }
   },
   "outputs": [],
   "source": [
    "x = data.PRES.values[non_nan_index]\n",
    "y = data['pm2.5'].values[non_nan_index]\n",
    "f = interpolate.interp1d(x, y)\n",
    "y_new = f(data.PRES.values[nan_index])\n",
    "data_interpolation_PRES = copy.deepcopy(data)\n",
    "data_interpolation_PRES.loc[nan_index, 'pm2.5'] = y_new"
   ]
  },
  {
   "cell_type": "markdown",
   "metadata": {
    "pycharm": {
     "name": "#%% md\n"
    }
   },
   "source": [
    "#### 用变量Iws进行填补"
   ]
  },
  {
   "cell_type": "code",
   "execution_count": 58,
   "metadata": {
    "pycharm": {
     "name": "#%%\n"
    }
   },
   "outputs": [
    {
     "name": "stderr",
     "output_type": "stream",
     "text": [
      "d:\\anaconda3\\lib\\site-packages\\scipy\\interpolate\\interpolate.py:623: RuntimeWarning: divide by zero encountered in true_divide\n",
      "  slope = (y_hi - y_lo) / (x_hi - x_lo)[:, None]\n",
      "d:\\anaconda3\\lib\\site-packages\\scipy\\interpolate\\interpolate.py:626: RuntimeWarning: invalid value encountered in multiply\n",
      "  y_new = slope*(x_new - x_lo)[:, None] + y_lo\n"
     ]
    }
   ],
   "source": [
    "x = data.Iws.values[non_nan_index]\n",
    "y = data['pm2.5'].values[non_nan_index]\n",
    "f = interpolate.interp1d(x, y,kind=\"linear\",fill_value=\"extrapolate\")\n",
    "y_new = f(data.Iws.values[nan_index])\n",
    "data_interpolation_Iws = copy.deepcopy(data)\n",
    "data_interpolation_Iws.loc[nan_index, 'pm2.5'] = y_new"
   ]
  },
  {
   "cell_type": "markdown",
   "metadata": {
    "pycharm": {
     "name": "#%% md\n"
    }
   },
   "source": [
    "> 因为 Is, Ir 变量存在很多0，故插值效果很差，这里就没有用这两个变量进行插值"
   ]
  },
  {
   "cell_type": "code",
   "execution_count": 59,
   "metadata": {
    "pycharm": {
     "name": "#%%\n"
    }
   },
   "outputs": [],
   "source": [
    "# 数据集转换函数, 输入当前数据集，给出最终完成转换的数据集\n",
    "# 当前的返回值都是后面的几项特征\n",
    "def dataset_divide(data_all):\n",
    "    import copy\n",
    "\n",
    "    X_y = data_all.iloc[:, 5:]\n",
    "\n",
    "    cbwd_one_hot = dict(zip(set(X_y['cbwd']), range(4)))\n",
    "\n",
    "\n",
    "    X_cbwd = copy.deepcopy(X_y['cbwd'].values)\n",
    "    X_cbwd_new = np.asarray(X_cbwd)\n",
    "    for i, item in enumerate(X_cbwd):\n",
    "        X_cbwd_new[i] = cbwd_one_hot[item]\n",
    "\n",
    "    X_y['cbwd'] = X_cbwd_new\n",
    "\n",
    "    X_y_numpy = X_y.values\n",
    "\n",
    "\n",
    "    X_test, y_test = X_y_numpy[[i for i in range(X_y_numpy.shape[0]) if i % 7 == 6]][:, 1:], X_y_numpy[[i for i in range(\n",
    "    X_y_numpy.shape[0]) if i % 7 == 6]][:, 0]\n",
    "    X_train, y_train = X_y_numpy[[i for i in range(X_y_numpy.shape[0]) if i % 7 != 6]][:, 1:], X_y_numpy[[i for i in range(\n",
    "    X_y_numpy.shape[0]) if i % 7 != 6]][:, 0]\n",
    "\n",
    "    return X_train,y_train,X_test,y_test"
   ]
  },
  {
   "cell_type": "code",
   "execution_count": 60,
   "metadata": {
    "pycharm": {
     "name": "#%%\n"
    }
   },
   "outputs": [],
   "source": [
    "\n",
    "def r2_score(X_train,y_train,X_test,y_test):\n",
    "\n",
    "   from sklearn.linear_model import LinearRegression\n",
    "   from sklearn.metrics import r2_score\n",
    "\n",
    "   # 这里可以封装成选择一个模型来得到最终结果\n",
    "   # 这里封装成模型来得到模型预测值\n",
    "   lr_1 = LinearRegression().fit(X_train, y_train)\n",
    "\n",
    "   r2_score_train, r2_score_test = r2_score(y_train, lr_1.predict(X_train)), r2_score(y_test, lr_1.predict(X_test))\n",
    "\n",
    "   r2_score_tuple = (r2_score_train, r2_score_test)\n",
    "\n",
    "   return r2_score_tuple\n",
    "\n",
    "def f1_score(X_train,y_train,X_test,y_test):\n",
    "\n",
    "   from sklearn.linear_model import LinearRegression\n",
    "   from sklearn.metrics import f1_score\n",
    "\n",
    "   lr_1 = LinearRegression().fit(X_train, y_train)\n",
    "\n",
    "   f1_score_train, f1_score_test = f1_score(y_train, lr_1.predict(X_train)), f1_score(y_test, lr_1.predict(X_test))\n",
    "\n",
    "   f1_score_tuple = (f1_score_train,f1_score_test)\n",
    "\n",
    "   return f1_score_tuple\n"
   ]
  },
  {
   "cell_type": "code",
   "execution_count": 61,
   "metadata": {
    "pycharm": {
     "name": "#%%\n"
    }
   },
   "outputs": [],
   "source": [
    "# 单独抽象出线性回归模型\n",
    "# 可能需要一个switch语句进行模型的选择\n",
    "# 此块预留，之后可能会用到"
   ]
  },
  {
   "cell_type": "code",
   "execution_count": 62,
   "metadata": {
    "pycharm": {
     "name": "#%%\n"
    }
   },
   "outputs": [],
   "source": [
    "# 使用不同的插值方法得到的数据集\n",
    "data_filled_dict = {\n",
    "    \"mean\":data_mean,\n",
    "    \"median\": data_median,\n",
    "     \"zero\": data_zero,\n",
    "     \"knn\":   data_knn,\n",
    "    \"DEWP\":data_interpolation_DEWP,\n",
    "    \"PRES\":data_interpolation_PRES,\n",
    "    \"TEMP\":data_interpolation_TEMP,\n",
    "    # \"interpolation_Iws\":data_interpolation_Iws\n",
    "\n",
    "}\n",
    "#     \"interpolation_Iws\":data_interpolation_Iws\n",
    "\n",
    "# key data_filled_name\n",
    "# value tuple(train_score,test_score)\n",
    "r1_score_result_dict  = {}\n",
    "f1_score_result_dict = {}\n",
    "for key,value in data_filled_dict.items():\n",
    "\n",
    "    # 划分数据集\n",
    "    X_train,y_train,X_test,y_test = dataset_divide(value)\n",
    "\n",
    "    r1_score_result_dict[key] = r2_score(X_train,y_train,X_test,y_test)\n",
    "\n",
    "    # f1_score_result_dict[key] = f1_score(X_train,y_train,X_test,y_test)"
   ]
  },
  {
   "cell_type": "code",
   "execution_count": 63,
   "metadata": {
    "pycharm": {
     "name": "#%%\n"
    }
   },
   "outputs": [
    {
     "name": "stdout",
     "output_type": "stream",
     "text": [
      "mean (0.22871210493771132, 0.2336917880339382)\n",
      "median (0.22788867171824934, 0.2327812839612825)\n",
      "zero (0.217298661376928, 0.2218188065278679)\n",
      "knn (0.23200770084977906, 0.2375670948087315)\n",
      "DEWP (0.21161216659487692, 0.2187696062952712)\n",
      "PRES (0.21786452321409622, 0.22398409909299677)\n",
      "TEMP (0.22276378004561947, 0.22955951892432225)\n"
     ]
    }
   ],
   "source": [
    "def plot_function():\n",
    "    pass\n",
    "\n",
    "for key, value in r1_score_result_dict.items():\n",
    "    print(key,value)"
   ]
  },
  {
   "cell_type": "code",
   "execution_count": 64,
   "metadata": {
    "pycharm": {
     "name": "#%%\n"
    }
   },
   "outputs": [
    {
     "data": {
      "image/png": "[encoded data removed]",
      "text/plain": [
       "<Figure size 432x288 with 1 Axes>"
      ]
     },
     "metadata": {
      "needs_background": "light"
     },
     "output_type": "display_data"
    }
   ],
   "source": [
    "import matplotlib.pyplot as plt\n",
    "import numpy as np\n",
    "\n",
    "x = np.arange(7)\n",
    "y = []\n",
    "y1 = []\n",
    "\n",
    "for key, value in r1_score_result_dict.items():\n",
    "    y.append(value[0])\n",
    "    y1.append(value[1])\n",
    "\n",
    "bar_width = 0.35\n",
    "tick_label = [\"A\",\"B\",\"C\",\"D\",\"E\"]\n",
    "\n",
    "# 生成多数据并列柱状图\n",
    "plt.bar(x,y,bar_width,color=\"c\",align=\"center\",label=\"training\",alpha=0.5)\n",
    "plt.bar(x+bar_width,y1,bar_width,color=\"b\",align=\"center\",label=\"test\",alpha=0.5)\n",
    "# 生成多数据平行柱状图\n",
    "# plt.barh(x,y,bar_width,color=\"c\",align=\"center\",label=\"班级A\",alpha=0.5)\n",
    "# plt.barh(x+bar_width,y1,bar_width,color=\"b\",align=\"center\",label=\"班级B\",alpha=0.5)\n",
    "\n",
    "# 设置x,y轴标签\n",
    "plt.xlabel(\"different interpolation methods\")\n",
    "plt.ylabel(\"coefficient of association\")\n",
    "\n",
    "# 设置x轴标签位置\n",
    "# plt.xticks(x+bar_width/2,tick_label)\n",
    "\n",
    "plt.legend()\n",
    "\n",
    "plt.show()"
   ]
  },
  {
   "cell_type": "code",
   "execution_count": 65,
   "metadata": {
    "pycharm": {
     "name": "#%%\n"
    }
   },
   "outputs": [
    {
     "data": {
      "image/png": "[encoded data removed]",
      "text/plain": [
       "<Figure size 432x288 with 1 Axes>"
      ]
     },
     "metadata": {
      "needs_background": "light"
     },
     "output_type": "display_data"
    }
   ],
   "source": [
    "import matplotlib as mpl\n",
    "import matplotlib.pyplot as plt\n",
    "import numpy as np\n",
    "\n",
    "# 防止乱码\n",
    "mpl.rcParams[\"font.sans-serif\"] = [\"SimHei\"]\n",
    "mpl.rcParams[\"axes.unicode_minus\"] = False\n",
    "\n",
    "# 生成数据\n",
    "x = np.arange(5)\n",
    "y = [6,10,4,5,1]\n",
    "y1 = [2,6,3,8,5]\n",
    "\n",
    "bar_width = 0.35\n",
    "tick_label = [\"A\",\"B\",\"C\",\"D\",\"E\"]\n",
    "\n",
    "# 生成多数据并列柱状图\n",
    "plt.bar(x,y,bar_width,color=\"c\",align=\"center\",label=\"班级A\",alpha=0.5)\n",
    "plt.bar(x+bar_width,y1,bar_width,color=\"b\",align=\"center\",label=\"班级B\",alpha=0.5)\n",
    "# 生成多数据平行柱状图\n",
    "# plt.barh(x,y,bar_width,color=\"c\",align=\"center\",label=\"班级A\",alpha=0.5)\n",
    "# plt.barh(x+bar_width,y1,bar_width,color=\"b\",align=\"center\",label=\"班级B\",alpha=0.5)\n",
    "\n",
    "\n",
    "# 设置x,y轴标签\n",
    "plt.xlabel(\"测试难度\")\n",
    "plt.ylabel(\"试卷份数\")\n",
    "\n",
    "# 设置x轴标签位置\n",
    "plt.xticks(x+bar_width/2,tick_label)\n",
    "\n",
    "plt.legend()\n",
    "\n",
    "plt.show()"
   ]
  },
  {
   "cell_type": "code",
   "execution_count": null,
   "metadata": {
    "pycharm": {
     "name": "#%%\n"
    }
   },
   "outputs": [],
   "source": []
  }
 ],
 "metadata": {
  "kernelspec": {
   "display_name": "Python 3 (ipykernel)",
   "language": "python",
   "name": "python3"
  },
  "language_info": {
   "codemirror_mode": {
    "name": "ipython",
    "version": 3
   },
   "file_extension": ".py",
   "mimetype": "text/x-python",
   "name": "python",
   "nbconvert_exporter": "python",
   "pygments_lexer": "ipython3",
   "version": "3.8.8"
  }
 },
 "nbformat": 4,
 "nbformat_minor": 1
}
