{
 "cells": [
  {
   "cell_type": "markdown",
   "metadata": {
    "collapsed": false,
    "pycharm": {
     "name": "#%% md\n"
    }
   },
   "source": []
  },
  {
   "cell_type": "code",
   "execution_count": null,
   "metadata": {
    "collapsed": false,
    "pycharm": {
     "name": "#%%\n"
    }
   },
   "outputs": [],
   "source": [
    "# ensemble learning"
   ]
  },
  {
   "cell_type": "code",
   "execution_count": 5,
   "outputs": [],
   "source": [
    "def data_normalization(data):\n",
    "    # 获取所有数值型数据 注意 这里目前传递的是引用，非其它数据类型\n",
    "    numeric_features = data.dtypes[data.dtypes != 'object'].index\n",
    "\n",
    "    data[numeric_features] = data[numeric_features].apply(lambda x: (x - x.mean()) / (x.std()))\n",
    "    # 在标准化数据之后，所有均值消失，因此我们可以将缺失值设置为0\n",
    "    data[numeric_features] = data[numeric_features].fillna(0)\n",
    "\n",
    "    return data"
   ],
   "metadata": {
    "collapsed": false,
    "pycharm": {
     "name": "#%%\n"
    }
   }
  },
  {
   "cell_type": "code",
   "execution_count": null,
   "outputs": [],
   "source": [
    "import numpy as np\n",
    "import pandas as pd\n",
    "\n",
    "csv_path = './PRSA_data_dropna.csv'\n",
    "\n",
    "dt = pd.read_csv(csv_path)\n",
    "\n",
    "X_pd = dt.loc[:,['DEWP','TEMP','PRES','cbwd','Iws','Is','Ir']] # 'year','month','day','hour',\n",
    "Y_pd = dt.loc[:,'pm2.5']\n",
    "\n",
    "# normalization\n",
    "X_norm_pd = data_normalization(X_pd)\n",
    "\n",
    "X = X_norm_pd.values.astype(float)\n",
    "Y = Y_pd.values.astype(int)\n",
    "\n",
    "Y = np.reshape(Y,(-1,1))\n",
    "\n",
    "# TODO:这里按照project要求进行抽取 已完成\n",
    "X_test, y_test = X[[i for i in range(X.shape[0]) if i % 7 == 6]][:, 0:], Y[[i for i in range(Y.shape[0]) if i % 7 == 6]][:, 0]\n",
    "X_train, y_train = X[[i for i in range(X.shape[0]) if i % 7 != 6]][:, 0:], Y[[i for i in range(Y.shape[0]) if i % 7 != 6]][:, 0]\n"
   ],
   "metadata": {
    "collapsed": false,
    "pycharm": {
     "name": "#%%\n"
    }
   }
  },
  {
   "cell_type": "code",
   "execution_count": null,
   "outputs": [],
   "source": [
    "from sklearn.preprocessing import StandardScaler\n",
    "\n",
    "# ss_X=StandardScaler()\n",
    "# ss_y=StandardScaler()\n",
    "#\n",
    "# #标准化处理\n",
    "# X_train=ss_X.fit_transform(X_train)\n",
    "# X_test=ss_X.fit_transform(X_test)\n",
    "# y_train=ss_y.fit_transform(y_train)\n",
    "# y_test=ss_y.fit_transform(y_test)\n",
    "\n",
    "#分别导入普通随机森林回归模型、极端随机森林回归模型、梯度提升树回归模型\n",
    "from sklearn.ensemble import RandomForestRegressor,ExtraTreesRegressor,GradientBoostingRegressor\n",
    "\n",
    "rfr=RandomForestRegressor()\n",
    "rfr.fit(X_train,y_train)\n",
    "rfr_y_predict=rfr.predict(X_test)\n",
    "\n",
    "\n",
    "etr=ExtraTreesRegressor()\n",
    "etr.fit(X_train,y_train)\n",
    "etr_y_predict=etr.predict(X_test)\n",
    "\n",
    "gbr=GradientBoostingRegressor()\n",
    "gbr.fit(X_train,y_train)\n",
    "gbr_y_predict=gbr.predict(X_test)\n",
    "\n",
    "\n",
    "#对三种集成模型进行性能评价\n",
    "print('R-squared value of RandomForestRegressor:',rfr.score(X_test,y_test))\n",
    "print('R-squared value of ExtraTreesRegressor:',etr.score(X_test,y_test))\n",
    "print('R-squared value of GradientBoostingRegressor:',gbr.score(X_test,y_test))"
   ],
   "metadata": {
    "collapsed": false,
    "pycharm": {
     "name": "#%%\n"
    }
   }
  },
  {
   "cell_type": "code",
   "execution_count": null,
   "outputs": [],
   "source": [
    "# model evaluation\n",
    "from sklearn.linear_model import LinearRegression\n",
    "from sklearn.metrics import r2_score\n",
    "\n",
    "lr_1 = rfr.fit(X_train, y_train)\n",
    "# lr_1.predict(X_test)\n",
    "r2_score(y_test, lr_1.predict(X_test)), r2_score(y_train, lr_1.predict(X_train))"
   ],
   "metadata": {
    "collapsed": false,
    "pycharm": {
     "name": "#%%\n"
    }
   }
  },
  {
   "cell_type": "code",
   "execution_count": null,
   "outputs": [],
   "source": [
    "# knn 回归\n",
    "from sklearn.neighbors import KNeighborsRegressor\n",
    "reg = KNeighborsRegressor(n_neighbors=6)\n",
    "reg.fit(X_train, y_train)\n",
    "\n",
    "\"\"\"打印对于测试集的预测值\"\"\"\n",
    "print(\"Test set predictions:\\n{}\".format(reg.predict(X_test)))\n",
    "\n",
    "\"\"\"打印测试集上的误差\"\"\"\n",
    "print(\"Test set R^2: {:.2f}\".format(reg.score(X_test, y_test)))"
   ],
   "metadata": {
    "collapsed": false,
    "pycharm": {
     "name": "#%%\n"
    }
   }
  },
  {
   "cell_type": "code",
   "execution_count": 7,
   "outputs": [
    {
     "name": "stdout",
     "output_type": "stream",
     "text": [
      "测试集均方误差： 5970.7891249416025\n",
      "训练集均方误差： 5858.544776419714\n"
     ]
    },
    {
     "ename": "NotFittedError",
     "evalue": "This MinMaxScaler instance is not fitted yet. Call 'fit' with appropriate arguments before using this estimator.",
     "output_type": "error",
     "traceback": [
      "\u001B[1;31m---------------------------------------------------------------------------\u001B[0m",
      "\u001B[1;31mNotFittedError\u001B[0m                            Traceback (most recent call last)",
      "Input \u001B[1;32mIn [7]\u001B[0m, in \u001B[0;36m<cell line: 67>\u001B[1;34m()\u001B[0m\n\u001B[0;32m     68\u001B[0m all_model \u001B[38;5;241m=\u001B[39m [svm\u001B[38;5;241m.\u001B[39mSVR(C\u001B[38;5;241m=\u001B[39m\u001B[38;5;241m1.2\u001B[39m)]  \u001B[38;5;66;03m# 添加模型即可\u001B[39;00m\n\u001B[0;32m     69\u001B[0m \u001B[38;5;28;01mfor\u001B[39;00m m \u001B[38;5;129;01min\u001B[39;00m all_model:\n\u001B[1;32m---> 70\u001B[0m     \u001B[43mtrain_and_chose_model\u001B[49m\u001B[43m(\u001B[49m\u001B[43mm\u001B[49m\u001B[43m,\u001B[49m\u001B[43mX_train\u001B[49m\u001B[43m,\u001B[49m\u001B[43mX_test\u001B[49m\u001B[43m,\u001B[49m\u001B[43my_train\u001B[49m\u001B[43m,\u001B[49m\u001B[43my_test\u001B[49m\u001B[43m)\u001B[49m\n",
      "Input \u001B[1;32mIn [7]\u001B[0m, in \u001B[0;36mtrain_and_chose_model\u001B[1;34m(model, X_train, X_test, y_train, y_test)\u001B[0m\n\u001B[0;32m     43\u001B[0m \u001B[38;5;28mprint\u001B[39m(\u001B[38;5;124m\"\u001B[39m\u001B[38;5;124m训练集均方误差：\u001B[39m\u001B[38;5;124m\"\u001B[39m, mean_squared_error(y_test, y_test_pre))\n\u001B[0;32m     45\u001B[0m \u001B[38;5;66;03m# data_x = scaler_1.inverse_transform(data_x) # 反归一化\u001B[39;00m\n\u001B[0;32m     46\u001B[0m \u001B[38;5;66;03m# data_y = scaler_2.inverse_transform(data_y)\u001B[39;00m\n\u001B[1;32m---> 48\u001B[0m X_train \u001B[38;5;241m=\u001B[39m \u001B[43mscaler_1\u001B[49m\u001B[38;5;241;43m.\u001B[39;49m\u001B[43minverse_transform\u001B[49m\u001B[43m(\u001B[49m\u001B[43mX_train\u001B[49m\u001B[43m)\u001B[49m\n\u001B[0;32m     49\u001B[0m X_test \u001B[38;5;241m=\u001B[39m scaler_1\u001B[38;5;241m.\u001B[39minverse_transform(X_test)\n\u001B[0;32m     50\u001B[0m y_test_pre \u001B[38;5;241m=\u001B[39m scaler_2\u001B[38;5;241m.\u001B[39minverse_transform(y_test_pre\u001B[38;5;241m.\u001B[39mreshape(\u001B[38;5;241m-\u001B[39m\u001B[38;5;241m1\u001B[39m, \u001B[38;5;241m1\u001B[39m))\n",
      "File \u001B[1;32md:\\anaconda3\\lib\\site-packages\\sklearn\\preprocessing\\_data.py:456\u001B[0m, in \u001B[0;36mMinMaxScaler.inverse_transform\u001B[1;34m(self, X)\u001B[0m\n\u001B[0;32m    443\u001B[0m \u001B[38;5;28;01mdef\u001B[39;00m \u001B[38;5;21minverse_transform\u001B[39m(\u001B[38;5;28mself\u001B[39m, X):\n\u001B[0;32m    444\u001B[0m     \u001B[38;5;124;03m\"\"\"Undo the scaling of X according to feature_range.\u001B[39;00m\n\u001B[0;32m    445\u001B[0m \n\u001B[0;32m    446\u001B[0m \u001B[38;5;124;03m    Parameters\u001B[39;00m\n\u001B[1;32m   (...)\u001B[0m\n\u001B[0;32m    454\u001B[0m \u001B[38;5;124;03m        Transformed data.\u001B[39;00m\n\u001B[0;32m    455\u001B[0m \u001B[38;5;124;03m    \"\"\"\u001B[39;00m\n\u001B[1;32m--> 456\u001B[0m     \u001B[43mcheck_is_fitted\u001B[49m\u001B[43m(\u001B[49m\u001B[38;5;28;43mself\u001B[39;49m\u001B[43m)\u001B[49m\n\u001B[0;32m    458\u001B[0m     X \u001B[38;5;241m=\u001B[39m check_array(X, copy\u001B[38;5;241m=\u001B[39m\u001B[38;5;28mself\u001B[39m\u001B[38;5;241m.\u001B[39mcopy, dtype\u001B[38;5;241m=\u001B[39mFLOAT_DTYPES,\n\u001B[0;32m    459\u001B[0m                     force_all_finite\u001B[38;5;241m=\u001B[39m\u001B[38;5;124m\"\u001B[39m\u001B[38;5;124mallow-nan\u001B[39m\u001B[38;5;124m\"\u001B[39m)\n\u001B[0;32m    461\u001B[0m     X \u001B[38;5;241m-\u001B[39m\u001B[38;5;241m=\u001B[39m \u001B[38;5;28mself\u001B[39m\u001B[38;5;241m.\u001B[39mmin_\n",
      "File \u001B[1;32md:\\anaconda3\\lib\\site-packages\\sklearn\\utils\\validation.py:63\u001B[0m, in \u001B[0;36m_deprecate_positional_args.<locals>._inner_deprecate_positional_args.<locals>.inner_f\u001B[1;34m(*args, **kwargs)\u001B[0m\n\u001B[0;32m     61\u001B[0m extra_args \u001B[38;5;241m=\u001B[39m \u001B[38;5;28mlen\u001B[39m(args) \u001B[38;5;241m-\u001B[39m \u001B[38;5;28mlen\u001B[39m(all_args)\n\u001B[0;32m     62\u001B[0m \u001B[38;5;28;01mif\u001B[39;00m extra_args \u001B[38;5;241m<\u001B[39m\u001B[38;5;241m=\u001B[39m \u001B[38;5;241m0\u001B[39m:\n\u001B[1;32m---> 63\u001B[0m     \u001B[38;5;28;01mreturn\u001B[39;00m \u001B[43mf\u001B[49m\u001B[43m(\u001B[49m\u001B[38;5;241;43m*\u001B[39;49m\u001B[43margs\u001B[49m\u001B[43m,\u001B[49m\u001B[43m \u001B[49m\u001B[38;5;241;43m*\u001B[39;49m\u001B[38;5;241;43m*\u001B[39;49m\u001B[43mkwargs\u001B[49m\u001B[43m)\u001B[49m\n\u001B[0;32m     65\u001B[0m \u001B[38;5;66;03m# extra_args > 0\u001B[39;00m\n\u001B[0;32m     66\u001B[0m args_msg \u001B[38;5;241m=\u001B[39m [\u001B[38;5;124m'\u001B[39m\u001B[38;5;132;01m{}\u001B[39;00m\u001B[38;5;124m=\u001B[39m\u001B[38;5;132;01m{}\u001B[39;00m\u001B[38;5;124m'\u001B[39m\u001B[38;5;241m.\u001B[39mformat(name, arg)\n\u001B[0;32m     67\u001B[0m             \u001B[38;5;28;01mfor\u001B[39;00m name, arg \u001B[38;5;129;01min\u001B[39;00m \u001B[38;5;28mzip\u001B[39m(kwonly_args[:extra_args],\n\u001B[0;32m     68\u001B[0m                                  args[\u001B[38;5;241m-\u001B[39mextra_args:])]\n",
      "File \u001B[1;32md:\\anaconda3\\lib\\site-packages\\sklearn\\utils\\validation.py:1041\u001B[0m, in \u001B[0;36mcheck_is_fitted\u001B[1;34m(estimator, attributes, msg, all_or_any)\u001B[0m\n\u001B[0;32m   1037\u001B[0m     attrs \u001B[38;5;241m=\u001B[39m [v \u001B[38;5;28;01mfor\u001B[39;00m v \u001B[38;5;129;01min\u001B[39;00m \u001B[38;5;28mvars\u001B[39m(estimator)\n\u001B[0;32m   1038\u001B[0m              \u001B[38;5;28;01mif\u001B[39;00m v\u001B[38;5;241m.\u001B[39mendswith(\u001B[38;5;124m\"\u001B[39m\u001B[38;5;124m_\u001B[39m\u001B[38;5;124m\"\u001B[39m) \u001B[38;5;129;01mand\u001B[39;00m \u001B[38;5;129;01mnot\u001B[39;00m v\u001B[38;5;241m.\u001B[39mstartswith(\u001B[38;5;124m\"\u001B[39m\u001B[38;5;124m__\u001B[39m\u001B[38;5;124m\"\u001B[39m)]\n\u001B[0;32m   1040\u001B[0m \u001B[38;5;28;01mif\u001B[39;00m \u001B[38;5;129;01mnot\u001B[39;00m attrs:\n\u001B[1;32m-> 1041\u001B[0m     \u001B[38;5;28;01mraise\u001B[39;00m NotFittedError(msg \u001B[38;5;241m%\u001B[39m {\u001B[38;5;124m'\u001B[39m\u001B[38;5;124mname\u001B[39m\u001B[38;5;124m'\u001B[39m: \u001B[38;5;28mtype\u001B[39m(estimator)\u001B[38;5;241m.\u001B[39m\u001B[38;5;18m__name__\u001B[39m})\n",
      "\u001B[1;31mNotFittedError\u001B[0m: This MinMaxScaler instance is not fitted yet. Call 'fit' with appropriate arguments before using this estimator."
     ]
    }
   ],
   "source": [
    "# SVR regressor\n"
   ],
   "metadata": {
    "collapsed": false,
    "pycharm": {
     "name": "#%%\n"
    }
   }
  },
  {
   "cell_type": "code",
   "execution_count": null,
   "outputs": [],
   "source": [],
   "metadata": {
    "collapsed": false,
    "pycharm": {
     "name": "#%%\n"
    }
   }
  },
  {
   "cell_type": "code",
   "execution_count": null,
   "outputs": [],
   "source": [],
   "metadata": {
    "collapsed": false,
    "pycharm": {
     "name": "#%%\n"
    }
   }
  },
  {
   "cell_type": "code",
   "execution_count": null,
   "outputs": [],
   "source": [],
   "metadata": {
    "collapsed": false,
    "pycharm": {
     "name": "#%%\n"
    }
   }
  }
 ],
 "metadata": {
  "interpreter": {
   "hash": "49cb93f377a7abe7414b7b0f21fb3017538004a126cf690fb524202736b7fb92"
  },
  "kernelspec": {
   "display_name": "Python 3.8.8 ('base')",
   "language": "python",
   "name": "python3"
  },
  "language_info": {
   "codemirror_mode": {
    "name": "ipython",
    "version": 3
   },
   "file_extension": ".py",
   "mimetype": "text/x-python",
   "name": "python",
   "nbconvert_exporter": "python",
   "pygments_lexer": "ipython3",
   "version": "3.8.8"
  }
 },
 "nbformat": 4,
 "nbformat_minor": 0
}