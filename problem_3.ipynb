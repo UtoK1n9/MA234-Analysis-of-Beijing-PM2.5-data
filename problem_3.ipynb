{
 "cells": [
  {
   "cell_type": "code",
   "execution_count": 1,
   "metadata": {
    "collapsed": true,
    "pycharm": {
     "name": "#%%\n"
    }
   },
   "outputs": [],
   "source": [
    "import numpy as np\n",
    "import pandas as pd\n",
    "import copy"
   ]
  },
  {
   "cell_type": "code",
   "execution_count": 2,
   "outputs": [],
   "source": [
    "data = pd.read_csv('PRSA_data.csv')\n",
    "pm25 = data.loc[:, \"pm2.5\"].values.reshape(-1, 1)  #sklearn当中特征矩阵必须是二维\n",
    "\n",
    "from sklearn.impute import SimpleImputer"
   ],
   "metadata": {
    "collapsed": false,
    "pycharm": {
     "name": "#%%\n"
    }
   }
  },
  {
   "cell_type": "markdown",
   "source": [
    "## 使用均值填补缺失数据(数值型数据)"
   ],
   "metadata": {
    "collapsed": false,
    "pycharm": {
     "name": "#%% md\n"
    }
   }
  },
  {
   "cell_type": "code",
   "execution_count": 64,
   "outputs": [],
   "source": [
    "\n",
    "data_mean = copy.deepcopy(data)\n",
    "\n",
    "pm25_mean = SimpleImputer()\n",
    "pm25_mean = pm25_mean.fit_transform(pm25)\n",
    "\n",
    "data_mean.loc[:, \"pm2.5\"] = pm25_mean"
   ],
   "metadata": {
    "collapsed": false,
    "pycharm": {
     "name": "#%%\n"
    }
   }
  },
  {
   "cell_type": "markdown",
   "source": [
    "## 使用中位数进行填补"
   ],
   "metadata": {
    "collapsed": false,
    "pycharm": {
     "name": "#%% md\n"
    }
   }
  },
  {
   "cell_type": "code",
   "execution_count": 65,
   "outputs": [],
   "source": [
    "\n",
    "data_median = copy.deepcopy(data)\n",
    "\n",
    "pm25_median = SimpleImputer(strategy=\"median\")  # 使用中位数填补\n",
    "\n",
    "pm25_median = pm25_median.fit_transform(pm25)\n",
    "\n",
    "data_median.loc[:, \"pm2.5\"] = pm25_median"
   ],
   "metadata": {
    "collapsed": false,
    "pycharm": {
     "name": "#%%\n"
    }
   }
  },
  {
   "cell_type": "markdown",
   "source": [
    "## 使用0进行填补"
   ],
   "metadata": {
    "collapsed": false,
    "pycharm": {
     "name": "#%% md\n"
    }
   }
  },
  {
   "cell_type": "code",
   "execution_count": 66,
   "outputs": [],
   "source": [
    "\n",
    "data_zero = copy.deepcopy(data)\n",
    "\n",
    "pm25_zero = SimpleImputer(strategy=\"constant\", fill_value=0)  # 使用中位数填补\n",
    "\n",
    "pm25_zero = pm25_zero.fit_transform(pm25)\n",
    "\n",
    "data_zero.loc[:, \"pm2.5\"] = pm25_zero"
   ],
   "metadata": {
    "collapsed": false,
    "pycharm": {
     "name": "#%%\n"
    }
   }
  },
  {
   "cell_type": "markdown",
   "source": [
    "## 使用众数进行填补"
   ],
   "metadata": {
    "collapsed": false,
    "pycharm": {
     "name": "#%% md\n"
    }
   }
  },
  {
   "cell_type": "code",
   "execution_count": 67,
   "outputs": [],
   "source": [
    "\n",
    "data_mode = copy.deepcopy(data)\n",
    "\n",
    "pm25_mode = SimpleImputer(strategy=\"most_frequent\")  # 使用中位数填补\n",
    "\n",
    "pm25_mode = pm25_mode.fit_transform(pm25)\n",
    "\n",
    "data_mode.loc[:, \"pm2.5\"] = pm25_mode\n"
   ],
   "metadata": {
    "collapsed": false,
    "pycharm": {
     "name": "#%%\n"
    }
   }
  },
  {
   "cell_type": "markdown",
   "source": [
    "## 使用KNN进行填补"
   ],
   "metadata": {
    "collapsed": false,
    "pycharm": {
     "name": "#%% md\n"
    }
   }
  },
  {
   "cell_type": "code",
   "execution_count": 68,
   "outputs": [],
   "source": [
    "\n",
    "from sklearn.impute import KNNImputer\n",
    "\n",
    "data_knn = copy.deepcopy(data)\n",
    "\n",
    "pm25_pd = data.loc[:, \"pm2.5\"]\n",
    "\n",
    "pm25_knn = KNNImputer(n_neighbors=5)\n",
    "\n",
    "pm25_knn = pm25_knn.fit_transform(pm25_pd.reset_index())\n",
    "\n",
    "data_knn.loc[:, \"pm2.5\"] = pm25_knn[:, 1]\n"
   ],
   "metadata": {
    "collapsed": false,
    "pycharm": {
     "name": "#%%\n"
    }
   }
  },
  {
   "cell_type": "markdown",
   "source": [
    "## 使用插值方法进行填补"
   ],
   "metadata": {
    "collapsed": false,
    "pycharm": {
     "name": "#%% md\n"
    }
   }
  },
  {
   "cell_type": "code",
   "execution_count": 4,
   "outputs": [],
   "source": [
    "import pandas as pd\n",
    "import copy\n",
    "from scipy import interpolate\n",
    "\n",
    "data = pd.read_csv('PRSA_data.csv')\n",
    "data = data.fillna(value=np.nan)"
   ],
   "metadata": {
    "collapsed": false,
    "pycharm": {
     "name": "#%%\n"
    }
   }
  },
  {
   "cell_type": "code",
   "execution_count": 6,
   "outputs": [],
   "source": [
    "pm25_data = data.loc[:, \"pm2.5\"].values.reshape(-1, 1)\n",
    "nan_index, _ = np.where(np.isnan(pm25_data))\n",
    "non_nan_index, _ = np.where(~np.isnan(pm25_data))"
   ],
   "metadata": {
    "collapsed": false,
    "pycharm": {
     "name": "#%%\n"
    }
   }
  },
  {
   "cell_type": "markdown",
   "source": [
    "#### 用变量DEWP进行填补"
   ],
   "metadata": {
    "collapsed": false,
    "pycharm": {
     "name": "#%% md\n"
    }
   }
  },
  {
   "cell_type": "code",
   "execution_count": 14,
   "outputs": [],
   "source": [
    "x = data.DEWP.values[non_nan_index]\n",
    "y = data['pm2.5'].values[non_nan_index]\n",
    "f = interpolate.interp1d(x, y)\n",
    "y_new = f(data.DEWP.values[nan_index])\n",
    "data_interpolation_DEWP = copy.deepcopy(data)\n",
    "data_interpolation_DEWP.loc[nan_index, 'pm2.5'] = y_new"
   ],
   "metadata": {
    "collapsed": false,
    "pycharm": {
     "name": "#%%\n"
    }
   }
  },
  {
   "cell_type": "markdown",
   "source": [
    "#### 用变量TEMP进行填补"
   ],
   "metadata": {
    "collapsed": false,
    "pycharm": {
     "name": "#%% md\n"
    }
   }
  },
  {
   "cell_type": "code",
   "execution_count": null,
   "outputs": [],
   "source": [
    "x = data.TEMP.values[non_nan_index]\n",
    "y = data['pm2.5'].values[non_nan_index]\n",
    "f = interpolate.interp1d(x, y)\n",
    "y_new = f(data.TEMP.values[nan_index])\n",
    "data_interpolation_TEMP = copy.deepcopy(data)\n",
    "data_interpolation_TEMP.loc[nan_index, 'pm2.5'] = y_new"
   ],
   "metadata": {
    "collapsed": false,
    "pycharm": {
     "name": "#%%\n"
    }
   }
  },
  {
   "cell_type": "markdown",
   "source": [
    "#### 用变量PRES进行填补"
   ],
   "metadata": {
    "collapsed": false,
    "pycharm": {
     "name": "#%% md\n"
    }
   }
  },
  {
   "cell_type": "code",
   "execution_count": null,
   "outputs": [],
   "source": [
    "x = data.PRES.values[non_nan_index]\n",
    "y = data['pm2.5'].values[non_nan_index]\n",
    "f = interpolate.interp1d(x, y)\n",
    "y_new = f(data.PRES.values[nan_index])\n",
    "data_interpolation_PRES = copy.deepcopy(data)\n",
    "data_interpolation_PRES.loc[nan_index, 'pm2.5'] = y_new"
   ],
   "metadata": {
    "collapsed": false,
    "pycharm": {
     "name": "#%%\n"
    }
   }
  },
  {
   "cell_type": "markdown",
   "source": [
    "#### 用变量Iws进行填补"
   ],
   "metadata": {
    "collapsed": false,
    "pycharm": {
     "name": "#%% md\n"
    }
   }
  },
  {
   "cell_type": "code",
   "execution_count": null,
   "outputs": [],
   "source": [
    "x = data.Iws.values[non_nan_index]\n",
    "y = data['pm2.5'].values[non_nan_index]\n",
    "f = interpolate.interp1d(x, y)\n",
    "y_new = f(data.Iws.values[nan_index])\n",
    "data_interpolation_Iws = copy.deepcopy(data)\n",
    "data_interpolation_Iws.loc[nan_index, 'pm2.5'] = y_new"
   ],
   "metadata": {
    "collapsed": false,
    "pycharm": {
     "name": "#%%\n"
    }
   }
  },
  {
   "cell_type": "markdown",
   "source": [
    "> 因为 Is, Ir 变量存在很多0，故插值效果很差，这里就没有用这两个变量进行插值"
   ],
   "metadata": {
    "collapsed": false,
    "pycharm": {
     "name": "#%% md\n"
    }
   }
  }
 ],
 "metadata": {
  "kernelspec": {
   "name": "conda-env-DataScience-py",
   "language": "python",
   "display_name": "Python [conda env:DataScience]"
  },
  "language_info": {
   "codemirror_mode": {
    "name": "ipython",
    "version": 2
   },
   "file_extension": ".py",
   "mimetype": "text/x-python",
   "name": "python",
   "nbconvert_exporter": "python",
   "pygments_lexer": "ipython2",
   "version": "2.7.6"
  }
 },
 "nbformat": 4,
 "nbformat_minor": 0
}