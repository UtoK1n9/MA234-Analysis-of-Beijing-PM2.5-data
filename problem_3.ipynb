{
 "cells": [
  {
   "cell_type": "code",
   "execution_count": 12,
   "metadata": {
    "pycharm": {
     "name": "#%%\n"
    }
   },
   "outputs": [],
   "source": [
    "import numpy as np\n",
    "import pandas as pd"
   ]
  },
  {
   "cell_type": "code",
   "execution_count": 13,
   "metadata": {
    "pycharm": {
     "name": "#%%\n"
    }
   },
   "outputs": [],
   "source": [
    "data = pd.read_csv('PRSA_data.csv')\n",
    "pm25 = data.loc[:, \"pm2.5\"].values.reshape(-1, 1)  #sklearn当中特征矩阵必须是二维\n",
    "\n",
    "from sklearn.impute import SimpleImputer"
   ]
  },
  {
   "cell_type": "code",
   "execution_count": 14,
   "outputs": [],
   "source": [
    "# one hot encoder\n",
    "\n",
    "import copy\n",
    "\n",
    "cbwd_one_hot = dict(zip(set(data['cbwd']), range(4)))\n",
    "cbwd_one_hot_inverse = dict(zip(range(4), set(data['cbwd'])))\n",
    "\n",
    "X_cbwd = copy.deepcopy(data['cbwd'].values)\n",
    "X_cbwd_new = np.asarray(X_cbwd)\n",
    "for i, item in enumerate(X_cbwd):\n",
    "    X_cbwd_new[i] = cbwd_one_hot[item]\n",
    "\n",
    "data['cbwd'] = X_cbwd_new"
   ],
   "metadata": {
    "collapsed": false,
    "pycharm": {
     "name": "#%%\n"
    }
   }
  },
  {
   "cell_type": "code",
   "execution_count": 15,
   "outputs": [],
   "source": [
    "# nan index and non-nan index\n",
    "\n",
    "pm25_data = data.loc[:, \"pm2.5\"].values.reshape(-1, 1)\n",
    "nan_index, _ = np.where(np.isnan(pm25_data))\n",
    "non_nan_index, _ = np.where(~np.isnan(pm25_data))\n",
    "X, y = data.iloc[non_nan_index, 6:], data.iloc[non_nan_index, 5]"
   ],
   "metadata": {
    "collapsed": false,
    "pycharm": {
     "name": "#%%\n"
    }
   }
  },
  {
   "cell_type": "markdown",
   "source": [
    "## 使用均值填补缺失数据(数值型数据)"
   ],
   "metadata": {
    "collapsed": false,
    "pycharm": {
     "name": "#%% md\n"
    }
   }
  },
  {
   "cell_type": "code",
   "execution_count": 16,
   "outputs": [],
   "source": [
    "\n",
    "data_mean = copy.deepcopy(data)\n",
    "\n",
    "pm25_mean = SimpleImputer()\n",
    "pm25_mean = pm25_mean.fit_transform(pm25)\n",
    "\n",
    "data_mean.loc[:, \"pm2.5\"] = pm25_mean"
   ],
   "metadata": {
    "collapsed": false,
    "pycharm": {
     "name": "#%%\n"
    }
   }
  },
  {
   "cell_type": "markdown",
   "source": [
    "## 使用中位数进行填补"
   ],
   "metadata": {
    "collapsed": false,
    "pycharm": {
     "name": "#%% md\n"
    }
   }
  },
  {
   "cell_type": "code",
   "execution_count": 17,
   "outputs": [],
   "source": [
    "\n",
    "data_median = copy.deepcopy(data)\n",
    "\n",
    "pm25_median = SimpleImputer(strategy=\"median\")  # 使用中位数填补\n",
    "\n",
    "pm25_median = pm25_median.fit_transform(pm25)\n",
    "\n",
    "data_median.loc[:, \"pm2.5\"] = pm25_median"
   ],
   "metadata": {
    "collapsed": false,
    "pycharm": {
     "name": "#%%\n"
    }
   }
  },
  {
   "cell_type": "markdown",
   "source": [
    "## 使用0进行填补"
   ],
   "metadata": {
    "collapsed": false,
    "pycharm": {
     "name": "#%% md\n"
    }
   }
  },
  {
   "cell_type": "code",
   "execution_count": 18,
   "outputs": [],
   "source": [
    "\n",
    "data_zero = copy.deepcopy(data)\n",
    "\n",
    "pm25_zero = SimpleImputer(strategy=\"constant\", fill_value=0)  # 使用中位数填补\n",
    "\n",
    "pm25_zero = pm25_zero.fit_transform(pm25)\n",
    "\n",
    "data_zero.loc[:, \"pm2.5\"] = pm25_zero"
   ],
   "metadata": {
    "collapsed": false,
    "pycharm": {
     "name": "#%%\n"
    }
   }
  },
  {
   "cell_type": "markdown",
   "source": [
    "## 使用众数进行填补"
   ],
   "metadata": {
    "collapsed": false,
    "pycharm": {
     "name": "#%% md\n"
    }
   }
  },
  {
   "cell_type": "code",
   "execution_count": 19,
   "outputs": [],
   "source": [
    "\n",
    "data_mode = copy.deepcopy(data)\n",
    "\n",
    "pm25_mode = SimpleImputer(strategy=\"most_frequent\")  # 使用中位数填补\n",
    "\n",
    "pm25_mode = pm25_mode.fit_transform(pm25)\n",
    "\n",
    "data_mode.loc[:, \"pm2.5\"] = pm25_mode\n"
   ],
   "metadata": {
    "collapsed": false,
    "pycharm": {
     "name": "#%%\n"
    }
   }
  },
  {
   "cell_type": "markdown",
   "source": [
    "## 使用KNN进行填补"
   ],
   "metadata": {
    "collapsed": false,
    "pycharm": {
     "name": "#%% md\n"
    }
   }
  },
  {
   "cell_type": "code",
   "execution_count": 20,
   "outputs": [],
   "source": [
    "from sklearn.neighbors import KNeighborsRegressor\n",
    "\n",
    "x = data.iloc[:, 6:].values[non_nan_index]\n",
    "y = data.iloc[:, 5].values[non_nan_index]\n",
    "KNR = KNeighborsRegressor(n_neighbors=5).fit(x, y)\n",
    "data_knn = copy.deepcopy(data)\n",
    "data_knn.loc[nan_index, 'pm2.5'] = KNR.predict(data.iloc[:, 6:].values[nan_index])"
   ],
   "metadata": {
    "collapsed": false,
    "pycharm": {
     "name": "#%%\n"
    }
   }
  },
  {
   "cell_type": "markdown",
   "source": [
    "## 使用插值方法进行填补"
   ],
   "metadata": {
    "collapsed": false,
    "pycharm": {
     "name": "#%% md\n"
    }
   }
  },
  {
   "cell_type": "code",
   "execution_count": 22,
   "outputs": [],
   "source": [
    "import copy\n",
    "from scipy import interpolate"
   ],
   "metadata": {
    "collapsed": false,
    "pycharm": {
     "name": "#%%\n"
    }
   }
  },
  {
   "cell_type": "code",
   "execution_count": 23,
   "outputs": [],
   "source": [
    "x = data.No.values[non_nan_index]\n",
    "y = data['pm2.5'].values[non_nan_index]\n",
    "f = interpolate.interp1d(x, y, fill_value=\"extrapolate\")\n",
    "y_new = f(data.No.values[nan_index])\n",
    "data_interpolation = copy.deepcopy(data)\n",
    "data_interpolation.loc[nan_index, 'pm2.5'] = y_new"
   ],
   "metadata": {
    "collapsed": false,
    "pycharm": {
     "name": "#%%\n"
    }
   }
  }
 ],
 "metadata": {
  "kernelspec": {
   "name": "conda-env-DataScience-py",
   "language": "python",
   "display_name": "Python [conda env:DataScience]"
  },
  "language_info": {
   "codemirror_mode": {
    "name": "ipython",
    "version": 3
   },
   "file_extension": ".py",
   "mimetype": "text/x-python",
   "name": "python",
   "nbconvert_exporter": "python",
   "pygments_lexer": "ipython3",
   "version": "3.8.8"
  }
 },
 "nbformat": 4,
 "nbformat_minor": 1
}