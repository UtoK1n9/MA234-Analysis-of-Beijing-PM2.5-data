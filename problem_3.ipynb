{
 "cells": [
  {
   "cell_type": "code",
   "execution_count": 1,
   "outputs": [],
   "source": [
    "import numpy as np\n",
    "import pandas as pd"
   ],
   "metadata": {
    "collapsed": false,
    "pycharm": {
     "name": "#%%\n"
    }
   }
  },
  {
   "cell_type": "markdown",
   "source": [
    "# 1"
   ],
   "metadata": {
    "collapsed": false,
    "pycharm": {
     "name": "#%% md\n"
    }
   }
  },
  {
   "cell_type": "code",
   "execution_count": 2,
   "outputs": [],
   "source": [
    "data = pd.read_csv('PRSA_data.csv')\n",
    "data = data.dropna()"
   ],
   "metadata": {
    "collapsed": false,
    "pycharm": {
     "name": "#%%\n"
    }
   }
  },
  {
   "cell_type": "code",
   "execution_count": 3,
   "outputs": [],
   "source": [
    "X_y = data.iloc[:, 5:]\n",
    "y = data.iloc[:, 5]"
   ],
   "metadata": {
    "collapsed": false,
    "pycharm": {
     "name": "#%%\n"
    }
   }
  },
  {
   "cell_type": "code",
   "execution_count": 4,
   "outputs": [],
   "source": [
    "cbwd_one_hot = dict(zip(set(X_y['cbwd']), range(4)))\n",
    "cbwd_one_hot_inverse = dict(zip(range(4), set(X_y['cbwd'])))"
   ],
   "metadata": {
    "collapsed": false,
    "pycharm": {
     "name": "#%%\n"
    }
   }
  },
  {
   "cell_type": "code",
   "execution_count": 5,
   "outputs": [],
   "source": [
    "# one hot encoding\n",
    "\n",
    "import copy\n",
    "\n",
    "X_cbwd = copy.deepcopy(X_y['cbwd'].values)\n",
    "X_cbwd_new = np.asarray(X_cbwd)\n",
    "for i, item in enumerate(X_cbwd):\n",
    "    X_cbwd_new[i] = cbwd_one_hot[item]\n",
    "\n",
    "X_y['cbwd'] = X_cbwd_new"
   ],
   "metadata": {
    "collapsed": false,
    "pycharm": {
     "name": "#%%\n"
    }
   }
  },
  {
   "cell_type": "code",
   "execution_count": 6,
   "outputs": [],
   "source": [
    "X_y_numpy = X_y.values\n",
    "X_test, y_test = X_y_numpy[[i for i in range(X_y_numpy.shape[0]) if i % 7 == 6]][:, 1:], X_y_numpy[[i for i in range(\n",
    "    X_y_numpy.shape[0]) if i % 7 == 6]][:, 0]\n",
    "X_train, y_train = X_y_numpy[[i for i in range(X_y_numpy.shape[0]) if i % 7 != 6]][:, 1:], X_y_numpy[[i for i in range(\n",
    "    X_y_numpy.shape[0]) if i % 7 != 6]][:, 0]"
   ],
   "metadata": {
    "collapsed": false,
    "pycharm": {
     "name": "#%%\n"
    }
   }
  },
  {
   "cell_type": "code",
   "execution_count": 7,
   "outputs": [
    {
     "data": {
      "text/plain": "(0.25753655395598407, 0.25569659497750385)"
     },
     "execution_count": 7,
     "metadata": {},
     "output_type": "execute_result"
    }
   ],
   "source": [
    "from sklearn.linear_model import LinearRegression\n",
    "from sklearn.metrics import r2_score\n",
    "\n",
    "lr_1 = LinearRegression().fit(X_train, y_train)\n",
    "# lr_1.predict(X_test)\n",
    "r2_score(y_test, lr_1.predict(X_test)), r2_score(y_train, lr_1.predict(X_train))"
   ],
   "metadata": {
    "collapsed": false,
    "pycharm": {
     "name": "#%%\n"
    }
   }
  }
 ],
 "metadata": {
  "kernelspec": {
   "name": "conda-env-DataScience-py",
   "language": "python",
   "display_name": "Python [conda env:DataScience]"
  },
  "language_info": {
   "codemirror_mode": {
    "name": "ipython",
    "version": 2
   },
   "file_extension": ".py",
   "mimetype": "text/x-python",
   "name": "python",
   "nbconvert_exporter": "python",
   "pygments_lexer": "ipython2",
   "version": "2.7.6"
  }
 },
 "nbformat": 4,
 "nbformat_minor": 0
}