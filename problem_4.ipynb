{
 "cells": [
  {
   "cell_type": "code",
   "execution_count": 1,
   "metadata": {
    "collapsed": true,
    "pycharm": {
     "name": "#%%\n"
    }
   },
   "outputs": [],
   "source": [
    "import pandas as pd\n",
    "import numpy as np\n",
    "\n",
    "data = pd.read_csv('PRSA_data.csv')"
   ]
  },
  {
   "cell_type": "code",
   "execution_count": 5,
   "outputs": [],
   "source": [
    "# 先使用未填补的数据\n",
    "\n",
    "pm25_data = data.loc[:, \"pm2.5\"].values.reshape(-1, 1)\n",
    "# nan_index, _ = np.where(np.isnan(pm25_data))\n",
    "non_nan_index, _ = np.where(~np.isnan(pm25_data))\n",
    "X, y = data.iloc[non_nan_index, 6:], data.iloc[non_nan_index, 5]\n",
    "\n",
    "# One hot encoder\n",
    "\n",
    "cbwd_one_hot = dict(zip(set(X['cbwd']), range(4)))\n",
    "cbwd_one_hot_inverse = dict(zip(range(4), set(X['cbwd'])))\n",
    "import copy\n",
    "\n",
    "X_cbwd = copy.deepcopy(X['cbwd'].values)\n",
    "X_cbwd_new = np.asarray(X_cbwd)\n",
    "for i, item in enumerate(X_cbwd):\n",
    "    X_cbwd_new[i] = cbwd_one_hot[item]\n",
    "\n",
    "X['cbwd'] = X_cbwd_new"
   ],
   "metadata": {
    "collapsed": false,
    "pycharm": {
     "name": "#%%\n"
    }
   }
  },
  {
   "cell_type": "markdown",
   "source": [
    "## 1.基于AIC和BIC的特征提取"
   ],
   "metadata": {
    "collapsed": false,
    "pycharm": {
     "name": "#%% md\n"
    }
   }
  },
  {
   "cell_type": "code",
   "execution_count": 3,
   "outputs": [],
   "source": [
    "def aic(y_true, y_pred, p):\n",
    "    n = len(y_true)\n",
    "    return 2 * (p + 1) + n * np.log(np.sum((y_pred - y_true) ** 2) / n)\n",
    "\n",
    "\n",
    "def bic(y_true, y_pred, p):\n",
    "    n = len(y_true)\n",
    "    return (p + 1) * np.log(len(y_true)) + n * np.log(np.sum((y_pred - y_true) ** 2) / n)"
   ],
   "metadata": {
    "collapsed": false,
    "pycharm": {
     "name": "#%%\n"
    }
   }
  },
  {
   "cell_type": "code",
   "execution_count": 4,
   "outputs": [],
   "source": [
    "from sklearn.linear_model import LinearRegression\n",
    "import copy\n",
    "\n",
    "columns = X.columns\n",
    "aic_value_all = []\n",
    "selected_variable_aic = []\n",
    "for i in range(len(columns)):\n",
    "\n",
    "    aic_value = []\n",
    "    alternative_var = []\n",
    "    temp_var = copy.copy(selected_variable_aic)\n",
    "    for var in columns:\n",
    "\n",
    "        if var in selected_variable_aic:\n",
    "            continue\n",
    "\n",
    "        temp_var.append(var)\n",
    "        X_temp = X.loc[:, temp_var]\n",
    "        lr = LinearRegression().fit(X_temp, y)\n",
    "        aic_value.append(aic(y, lr.predict(X_temp), len(temp_var)))\n",
    "        alternative_var.append(var)\n",
    "\n",
    "    if len(aic_value) != 0:\n",
    "        aic_value_all.append(min(aic_value))\n",
    "        selected_variable_aic.append(alternative_var[aic_value.index(min(aic_value))])"
   ],
   "metadata": {
    "collapsed": false,
    "pycharm": {
     "name": "#%%\n"
    }
   }
  },
  {
   "cell_type": "code",
   "execution_count": 5,
   "outputs": [
    {
     "data": {
      "text/plain": "['Ir', 'Is', 'Iws', 'cbwd', 'PRES', 'TEMP', 'DEWP']"
     },
     "execution_count": 5,
     "metadata": {},
     "output_type": "execute_result"
    }
   ],
   "source": [
    "selected_variable_aic"
   ],
   "metadata": {
    "collapsed": false,
    "pycharm": {
     "name": "#%%\n"
    }
   }
  },
  {
   "cell_type": "code",
   "execution_count": 6,
   "outputs": [],
   "source": [
    "bic_value_all = []\n",
    "selected_variable_bic = []\n",
    "for i in range(len(columns)):\n",
    "\n",
    "    bic_value = []\n",
    "    alternative_var = []\n",
    "    temp_var = copy.copy(selected_variable_bic)\n",
    "    for var in columns:\n",
    "\n",
    "        if var in selected_variable_bic:\n",
    "            continue\n",
    "\n",
    "        temp_var.append(var)\n",
    "        X_temp = X.loc[:, temp_var]\n",
    "        lr = LinearRegression().fit(X_temp, y)\n",
    "        bic_value.append(aic(y, lr.predict(X_temp), len(temp_var)))\n",
    "        alternative_var.append(var)\n",
    "\n",
    "    if len(bic_value) != 0:\n",
    "        aic_value_all.append(min(bic_value))\n",
    "        selected_variable_bic.append(alternative_var[bic_value.index(min(bic_value))])"
   ],
   "metadata": {
    "collapsed": false,
    "pycharm": {
     "name": "#%%\n"
    }
   }
  },
  {
   "cell_type": "code",
   "execution_count": 7,
   "outputs": [
    {
     "data": {
      "text/plain": "['Ir', 'Is', 'Iws', 'cbwd', 'PRES', 'TEMP', 'DEWP']"
     },
     "execution_count": 7,
     "metadata": {},
     "output_type": "execute_result"
    }
   ],
   "source": [
    "selected_variable_bic"
   ],
   "metadata": {
    "collapsed": false,
    "pycharm": {
     "name": "#%%\n"
    }
   }
  },
  {
   "cell_type": "markdown",
   "source": [
    "## 2.基于LASSO回归的特征提取"
   ],
   "metadata": {
    "collapsed": false,
    "pycharm": {
     "name": "#%% md\n"
    }
   }
  },
  {
   "cell_type": "code",
   "execution_count": 49,
   "outputs": [],
   "source": [
    "from sklearn.linear_model import Lasso\n",
    "\n",
    "selected_variable_lasso=[]\n",
    "\n",
    "for i in range(150,0,-1):\n",
    "    lasso=Lasso(alpha=i).fit(X,y)\n",
    "    if set(X.columns[np.abs(lasso.coef_)>1e-5])==set(selected_variable_lasso):\n",
    "        continue\n",
    "    selected_variable_lasso.extend([i for i in X.columns[np.abs(lasso.coef_)>1e-5] if i not in selected_variable_lasso])"
   ],
   "metadata": {
    "collapsed": false,
    "pycharm": {
     "name": "#%%\n"
    }
   }
  },
  {
   "cell_type": "code",
   "execution_count": 50,
   "outputs": [
    {
     "data": {
      "text/plain": "['Iws', 'DEWP', 'TEMP', 'PRES', 'Ir', 'cbwd', 'Is']"
     },
     "execution_count": 50,
     "metadata": {},
     "output_type": "execute_result"
    }
   ],
   "source": [
    "selected_variable_lasso"
   ],
   "metadata": {
    "collapsed": false,
    "pycharm": {
     "name": "#%%\n"
    }
   }
  },
  {
   "cell_type": "code",
   "execution_count": 54,
   "outputs": [
    {
     "data": {
      "text/plain": "0.2357746597685373"
     },
     "execution_count": 54,
     "metadata": {},
     "output_type": "execute_result"
    }
   ],
   "source": [
    "from sklearn.metrics import r2_score\n",
    "\n",
    "lr=LinearRegression().fit(X.iloc[:,[0,1,2,4,6]],y)\n",
    "r2_score(y,lr.predict(X.iloc[:,[0,1,2,4,6]]))"
   ],
   "metadata": {
    "collapsed": false,
    "pycharm": {
     "name": "#%%\n"
    }
   }
  }
 ],
 "metadata": {
  "kernelspec": {
   "name": "python3",
   "language": "python",
   "display_name": "Python 3 (ipykernel)"
  },
  "language_info": {
   "codemirror_mode": {
    "name": "ipython",
    "version": 2
   },
   "file_extension": ".py",
   "mimetype": "text/x-python",
   "name": "python",
   "nbconvert_exporter": "python",
   "pygments_lexer": "ipython2",
   "version": "2.7.6"
  }
 },
 "nbformat": 4,
 "nbformat_minor": 0
}